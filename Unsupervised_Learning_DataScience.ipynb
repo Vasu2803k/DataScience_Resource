{
  "nbformat": 4,
  "nbformat_minor": 0,
  "metadata": {
    "colab": {
      "provenance": [],
      "collapsed_sections": [
        "VrxwfH8bYT7s",
        "_OMnHlGz1W-W"
      ]
    },
    "kernelspec": {
      "name": "python3",
      "display_name": "Python 3"
    },
    "language_info": {
      "name": "python"
    }
  },
  "cells": [
    {
      "cell_type": "markdown",
      "source": [
        "# Unsupervised Learning"
      ],
      "metadata": {
        "id": "jXhhzz1NXbOZ"
      }
    },
    {
      "cell_type": "markdown",
      "source": [
        "The method of extracting the patterns inferred from the unlabelled dataset.   #Clustering: A way of grouping the data in to diff clusters, consisting of similar data points #Association Rule: This rule checks the dependency of one data item over another item and maps accordingly so that it is profitable"
      ],
      "metadata": {
        "id": "PfTPYrhaXhSn"
      }
    },
    {
      "cell_type": "markdown",
      "source": [
        "# K Means Clustering"
      ],
      "metadata": {
        "id": "VrxwfH8bYT7s"
      }
    },
    {
      "cell_type": "code",
      "source": [
        "# Choose the number k - predefint the number of clusters\n",
        "# Choose random k data points or centroids (can be from the input dataset)\n",
        "# Assign each data points to its closest centroid. We draw a median line between these centroids so that this line distinguishes the data points\n",
        "# Now re-compute the centroid of each cluster and reassign the centroid to its new value of the centroid\n",
        "# Repeat the steps above to attain a optimal centroid - no change in value of centroid after re-computation\n",
        "# Remove the centroids if there are assumed rather than a picking a random data point as centroid from the input dataset\n",
        "\n",
        "# The optimal value of predefined clusters are determined using Elbow method (It involves the k means clustering algorithm)\n",
        "\n",
        "# Run the k means clustering algo for each k value until each points becomes the centroid itself\n",
        "# Computer WCSS - within cluster sum of squares\n",
        "# We compute the wcss for every different setup of clusters k then decide the optimal k by visualization\n",
        "# plot graph with k vs wcss \n",
        "# choose the intial point with steep decrease of wcss which acts like elbow\n",
        "\n",
        "\n",
        "# K-means++ method is used to combat the Random Initialization trap\n",
        "# -> Select first random point as a centroid from the dataset \n",
        "# -> Now, compute the distance(D) from each remaining points to the nearest centrod out of already selected centroids\n",
        "# -> Assign the new centroid with the weighted distance(D^2) from the earlier nearest centroid\n",
        "# -> Repeat the above steps untill k centroids ahave been selected\n",
        "# -> Proceed with k means clustering \n",
        "\n",
        "import numpy as np\n",
        "import pandas as pd\n",
        "import matplotlib.pyplot as plt\n",
        "from sklearn.cluster import KMeans\n",
        "\n",
        "dataset=pd.read_csv(\"Mall_Customers.csv\")\n",
        "x=dataset.iloc[:, [3,4]].values\n",
        "\n",
        "# using elbow to determine the number of optimal clusters\n",
        "wcss=[]\n",
        "for i in range(1,11):\n",
        "  kmeans=KMeans(n_clusters=i, init='k-means++', random_state=42) # n_init='auto' means number of times k means algo has to execute is 10 times else if init=k-means++ is 1 time\n",
        "  kmeans.fit(x)\n",
        "  wcss.append(kmeans.inertia_)\n",
        "\n",
        "# now plot the data so that we can identify the optimal value\n",
        "plt.plot(range(1,11), wcss)\n",
        "plt.xlabel(\"Number of clusters\")\n",
        "plt.ylabel(\"WCSS\")\n",
        "plt.title('The Elbow Method')\n",
        "plt.show()\n"
      ],
      "metadata": {
        "id": "S30Lb7UgYZ4b"
      },
      "execution_count": null,
      "outputs": []
    },
    {
      "cell_type": "code",
      "source": [
        "# The optimal number of clusters are found to be 5\n",
        "kmeans=KMeans(n_clusters=5, init='k-means++', random_state=42)\n",
        "y_kmeans=kmeans.fit_predict(x)\n",
        "np.unique(y_kmeans)\n",
        "kmeans.predict([[15,39]])"
      ],
      "metadata": {
        "id": "IcD4IMJ3rl1m"
      },
      "execution_count": null,
      "outputs": []
    },
    {
      "cell_type": "markdown",
      "source": [
        "Visualization"
      ],
      "metadata": {
        "id": "cq7Ok_slvXm4"
      }
    },
    {
      "cell_type": "code",
      "source": [
        "from matplotlib.colors import ListedColormap\n",
        "for i,j in enumerate(np.unique(y_kmeans)):\n",
        "  plt.scatter(x[y_kmeans==j,0], x[y_kmeans==j, 1], c=ListedColormap(('red','blue','green','cyan','magenta'))(i),s=100, label='cluster {}'.format(j+1))\n",
        "\n",
        "# calculate cluster centers\n",
        "plt.scatter(kmeans.cluster_centers_[:,0], kmeans.cluster_centers_[:,1], s=300, label='center/centroid', c='yellow')\n",
        "plt.legend(title='Clusters')\n",
        "plt.xlabel('Annual Income')\n",
        "plt.ylabel('Spending score')\n",
        "plt.show()"
      ],
      "metadata": {
        "id": "267fkYdjsc9K"
      },
      "execution_count": null,
      "outputs": []
    },
    {
      "cell_type": "markdown",
      "source": [
        "# Hierarchial Clustering"
      ],
      "metadata": {
        "id": "_OMnHlGz1W-W"
      }
    },
    {
      "cell_type": "code",
      "source": [
        "# Same as KMeans clustering but the process is diff\n",
        "# It is of two types: 1. Aggolmerative - Bottom up approach 2. Divisive - Top down approach\n",
        "# Make each data point a single cluster - N clusters\n",
        "# Take two closest clusters and make them single cluster - N-1 clusters\n",
        "# Repeat above step until there is only one cluster\n",
        "# Optimal number of clusters is found using dendrograms\n",
        "# Dendrogram acts as a memory of the algorithm which remembers every step\n",
        "# Dendrogram is a graph between data points and Euclidean distance for the clusters formed using the hierarchical clustering process\n",
        "# Heights determine the distance between the clusters formed iteratively with the closest first which also represents the dissimilarity between them\n",
        "# In dendrogram, the largest/ highest distance that doesn't cross any horizontal line \n",
        "# largest vertical move that we can make without crossing any horizontal line\n",
        "\n",
        "# Dendrograms are based on Within-Cluster-Variance\n",
        "# Hierarchical clustering method is not appropriate for large datasets\n",
        "import numpy as np\n",
        "import pandas as pd\n",
        "import matplotlib.pyplot as plt\n",
        "from sklearn.cluster import AgglomerativeClustering\n",
        "\n",
        "dataset=pd.read_csv(\"Mall_Customers.csv\")\n",
        "x=dataset.iloc[:, [3,4]].values"
      ],
      "metadata": {
        "id": "UG767KQN1hea"
      },
      "execution_count": null,
      "outputs": []
    },
    {
      "cell_type": "markdown",
      "source": [
        "Finding the optimal number of clusters using dendrograms\n"
      ],
      "metadata": {
        "id": "6Gwnt5BRSfpE"
      }
    },
    {
      "cell_type": "code",
      "source": [
        "# scipy.cluster.hierarchy\n",
        "import scipy.cluster.hierarchy as sch\n",
        "dendrogram=sch.dendrogram(sch.linkage(x, method='ward')) # 'ward' is the method applied in hierarchical cluster analysis - to minimise the variance in the clusters\n"
      ],
      "metadata": {
        "colab": {
          "base_uri": "https://localhost:8080/",
          "height": 265
        },
        "id": "SF3n8ckZSnMc",
        "outputId": "23b85601-c2e1-49b2-bccf-1dfa2b581fc8"
      },
      "execution_count": null,
      "outputs": [
        {
          "output_type": "display_data",
          "data": {
            "text/plain": [
              "<Figure size 432x288 with 1 Axes>"
            ],
            "image/png": "[encoded data removed]"
          },
          "metadata": {
            "needs_background": "light"
          }
        }
      ]
    },
    {
      "cell_type": "markdown",
      "source": [
        "From the above, the optimal number of clusters is 5 - \n",
        "The largest vertical move without crossing any horizontal line"
      ],
      "metadata": {
        "id": "sB_45by-Tu6t"
      }
    },
    {
      "cell_type": "code",
      "source": [
        "# Now fitting the model with our dataset\n",
        "hc=AgglomerativeClustering(n_clusters=5,affinity='euclidean', linkage='ward')\n",
        "y_hc=hc.fit_predict(x)\n",
        "y_hc"
      ],
      "metadata": {
        "colab": {
          "base_uri": "https://localhost:8080/"
        },
        "id": "6X6HEjrLUack",
        "outputId": "72139562-9c87-475b-d7ff-b50fca2e6bf8"
      },
      "execution_count": null,
      "outputs": [
        {
          "output_type": "execute_result",
          "data": {
            "text/plain": [
              "array([4, 3, 4, 3, 4, 3, 4, 3, 4, 3, 4, 3, 4, 3, 4, 3, 4, 3, 4, 3, 4, 3,\n",
              "       4, 3, 4, 3, 4, 3, 4, 3, 4, 3, 4, 3, 4, 3, 4, 3, 4, 3, 4, 3, 4, 1,\n",
              "       4, 1, 1, 1, 1, 1, 1, 1, 1, 1, 1, 1, 1, 1, 1, 1, 1, 1, 1, 1, 1, 1,\n",
              "       1, 1, 1, 1, 1, 1, 1, 1, 1, 1, 1, 1, 1, 1, 1, 1, 1, 1, 1, 1, 1, 1,\n",
              "       1, 1, 1, 1, 1, 1, 1, 1, 1, 1, 1, 1, 1, 1, 1, 1, 1, 1, 1, 1, 1, 1,\n",
              "       1, 1, 1, 1, 1, 1, 1, 1, 1, 1, 1, 1, 1, 2, 1, 2, 1, 2, 0, 2, 0, 2,\n",
              "       1, 2, 0, 2, 0, 2, 0, 2, 0, 2, 1, 2, 0, 2, 1, 2, 0, 2, 0, 2, 0, 2,\n",
              "       0, 2, 0, 2, 0, 2, 1, 2, 0, 2, 0, 2, 0, 2, 0, 2, 0, 2, 0, 2, 0, 2,\n",
              "       0, 2, 0, 2, 0, 2, 0, 2, 0, 2, 0, 2, 0, 2, 0, 2, 0, 2, 0, 2, 0, 2,\n",
              "       0, 2])"
            ]
          },
          "metadata": {},
          "execution_count": 9
        }
      ]
    },
    {
      "cell_type": "markdown",
      "source": [
        "visualization"
      ],
      "metadata": {
        "id": "573TTIBNVWVC"
      }
    },
    {
      "cell_type": "code",
      "source": [
        "import warnings\n",
        "from matplotlib.colors import ListedColormap\n",
        "warnings.filterwarnings('ignore')\n",
        "for i,j in enumerate(np.unique(y_hc)):\n",
        "  plt.scatter(x[y_hc==j,0], x[y_hc==j, 1], c=ListedColormap(('red','blue','green','cyan','magenta'))(i),s=100, label='cluster {}'.format(j+1))\n",
        "\n",
        "plt.legend(title='Clusters')\n",
        "plt.xlabel('Annual Income')\n",
        "plt.ylabel('Spending score')\n",
        "plt.show()"
      ],
      "metadata": {
        "colab": {
          "base_uri": "https://localhost:8080/",
          "height": 386
        },
        "id": "OS9kTKMeVb0g",
        "outputId": "1847a7b0-20b8-4c94-8286-eca59333606f"
      },
      "execution_count": null,
      "outputs": [
        {
          "output_type": "stream",
          "name": "stderr",
          "text": [
            "WARNING:matplotlib.axes._axes:*c* argument looks like a single numeric RGB or RGBA sequence, which should be avoided as value-mapping will have precedence in case its length matches with *x* & *y*.  Please use the *color* keyword-argument or provide a 2-D array with a single row if you intend to specify the same RGB or RGBA value for all points.\n",
            "WARNING:matplotlib.axes._axes:*c* argument looks like a single numeric RGB or RGBA sequence, which should be avoided as value-mapping will have precedence in case its length matches with *x* & *y*.  Please use the *color* keyword-argument or provide a 2-D array with a single row if you intend to specify the same RGB or RGBA value for all points.\n",
            "WARNING:matplotlib.axes._axes:*c* argument looks like a single numeric RGB or RGBA sequence, which should be avoided as value-mapping will have precedence in case its length matches with *x* & *y*.  Please use the *color* keyword-argument or provide a 2-D array with a single row if you intend to specify the same RGB or RGBA value for all points.\n",
            "WARNING:matplotlib.axes._axes:*c* argument looks like a single numeric RGB or RGBA sequence, which should be avoided as value-mapping will have precedence in case its length matches with *x* & *y*.  Please use the *color* keyword-argument or provide a 2-D array with a single row if you intend to specify the same RGB or RGBA value for all points.\n",
            "WARNING:matplotlib.axes._axes:*c* argument looks like a single numeric RGB or RGBA sequence, which should be avoided as value-mapping will have precedence in case its length matches with *x* & *y*.  Please use the *color* keyword-argument or provide a 2-D array with a single row if you intend to specify the same RGB or RGBA value for all points.\n"
          ]
        },
        {
          "output_type": "display_data",
          "data": {
            "text/plain": [
              "<Figure size 432x288 with 1 Axes>"
            ],
            "image/png": "[encoded data removed]"
          },
          "metadata": {
            "needs_background": "light"
          }
        }
      ]
    },
    {
      "cell_type": "markdown",
      "source": [
        "# Association rule Learning"
      ],
      "metadata": {
        "id": "QsZqpAj5YZhd"
      }
    },
    {
      "cell_type": "markdown",
      "source": [
        "Apriori"
      ],
      "metadata": {
        "id": "FMhtwxckzsNA"
      }
    },
    {
      "cell_type": "code",
      "source": [
        "# Assocation rule learning is done using two algo's\n",
        "# apriori, eclat\n",
        "# Apriori - Uses the prior knowledge\n",
        "# Support(m) = no of users watching m/total no of users\n",
        "# confidence(m1->m2) = no of users watching m1 & m2/ no of users watching m1\n",
        "# lift(m1->m2)= confidence(m1->m2)/support(m2)\n",
        "\n",
        "# algo\n",
        "# set a min support\n",
        "# select all the subsets with support greater than the min support\n",
        "# select all the rules with confidence grater than the min confidence\n",
        "# sort the rules by decreasing lifts\n",
        "\n",
        "!pip install apyori"
      ],
      "metadata": {
        "id": "pgnfCJnnYczU",
        "colab": {
          "base_uri": "https://localhost:8080/"
        },
        "outputId": "9eba1877-1d8f-43a4-daea-752e9b02eb31"
      },
      "execution_count": 1,
      "outputs": [
        {
          "output_type": "stream",
          "name": "stdout",
          "text": [
            "Looking in indexes: https://pypi.org/simple, https://us-python.pkg.dev/colab-wheels/public/simple/\n",
            "Collecting apyori\n",
            "  Downloading apyori-1.1.2.tar.gz (8.6 kB)\n",
            "Building wheels for collected packages: apyori\n",
            "  Building wheel for apyori (setup.py) ... \u001b[?25l\u001b[?25hdone\n",
            "  Created wheel for apyori: filename=apyori-1.1.2-py3-none-any.whl size=5973 sha256=46f6beadf0be2594daa37080380b71f5c26f8ca5aa5db3347976274c35341118\n",
            "  Stored in directory: /root/.cache/pip/wheels/1b/02/6c/a45230be8603bd95c0a51cd2b289aefdd860c1a100eab73661\n",
            "Successfully built apyori\n",
            "Installing collected packages: apyori\n",
            "Successfully installed apyori-1.1.2\n"
          ]
        }
      ]
    },
    {
      "cell_type": "code",
      "source": [
        "import numpy as np\n",
        "import pandas as pd\n",
        "import matplotlib.pyplot as plt\n",
        "from apyori import apriori\n",
        "\n",
        "dataset=pd.read_csv(\"Market_Basket_Optimisation.csv\", header=None)\n",
        "\n",
        "# apriori method expects a list\n",
        "transactions=[]\n",
        "\n",
        "for i in range(len(dataset)):\n",
        "  transactions.append([str(dataset.values[i,j]) for j in range(len(dataset.columns)) if str(dataset.values[i,j])!=str(np.nan)])\n",
        "\n",
        "rules=apriori(transactions=transactions, min_support=0.003, min_confidence=0.3, min_lift=3, min_length=2, max_length=2 )\n",
        "results=list(rules)\n",
        "results"
      ],
      "metadata": {
        "colab": {
          "base_uri": "https://localhost:8080/"
        },
        "id": "eoXMMrrJ28k8",
        "outputId": "406b8c6b-1c58-4f37-8afa-fdbe8ec6009b"
      },
      "execution_count": 2,
      "outputs": [
        {
          "output_type": "execute_result",
          "data": {
            "text/plain": [
              "[RelationRecord(items=frozenset({'mushroom cream sauce', 'escalope'}), support=0.005732568990801226, ordered_statistics=[OrderedStatistic(items_base=frozenset({'mushroom cream sauce'}), items_add=frozenset({'escalope'}), confidence=0.3006993006993007, lift=3.790832696715049)]),\n",
              " RelationRecord(items=frozenset({'pasta', 'escalope'}), support=0.005865884548726837, ordered_statistics=[OrderedStatistic(items_base=frozenset({'pasta'}), items_add=frozenset({'escalope'}), confidence=0.3728813559322034, lift=4.700811850163794)]),\n",
              " RelationRecord(items=frozenset({'herb & pepper', 'ground beef'}), support=0.015997866951073192, ordered_statistics=[OrderedStatistic(items_base=frozenset({'herb & pepper'}), items_add=frozenset({'ground beef'}), confidence=0.3234501347708895, lift=3.2919938411349285)]),\n",
              " RelationRecord(items=frozenset({'tomato sauce', 'ground beef'}), support=0.005332622317024397, ordered_statistics=[OrderedStatistic(items_base=frozenset({'tomato sauce'}), items_add=frozenset({'ground beef'}), confidence=0.3773584905660377, lift=3.840659481324083)]),\n",
              " RelationRecord(items=frozenset({'pasta', 'shrimp'}), support=0.005065991201173177, ordered_statistics=[OrderedStatistic(items_base=frozenset({'pasta'}), items_add=frozenset({'shrimp'}), confidence=0.3220338983050847, lift=4.506672147735896)])]"
            ]
          },
          "metadata": {},
          "execution_count": 2
        }
      ]
    },
    {
      "cell_type": "code",
      "source": [
        "def inspect(results):\n",
        "  lhs=[tuple(result[2][0][0])[0] for result in results]\n",
        "  rhs=[tuple(result[2][0][1])[0] for result in results]\n",
        "  supports=[result[1] for result in results]\n",
        "  confidences=[result[2][0][2] for result in results]\n",
        "  lifts=[result[2][0][3] for result in results]\n",
        "  return list(zip(lhs, rhs, supports, confidences, lifts))\n",
        "\n",
        "result_df=pd.DataFrame(inspect(results), columns=['lhs','rhs', 'support', 'confidence', 'lift'])\n",
        "# decreasing order by lift\n",
        "result_df.nlargest(n=10, columns=['lift'])"
      ],
      "metadata": {
        "colab": {
          "base_uri": "https://localhost:8080/",
          "height": 206
        },
        "id": "S5x8GgMdB8DK",
        "outputId": "f254f093-e12a-406f-c2c0-c8952bb8543a"
      },
      "execution_count": 3,
      "outputs": [
        {
          "output_type": "execute_result",
          "data": {
            "text/plain": [
              "                    lhs          rhs   support  confidence      lift\n",
              "1                 pasta     escalope  0.005866    0.372881  4.700812\n",
              "4                 pasta       shrimp  0.005066    0.322034  4.506672\n",
              "3          tomato sauce  ground beef  0.005333    0.377358  3.840659\n",
              "0  mushroom cream sauce     escalope  0.005733    0.300699  3.790833\n",
              "2         herb & pepper  ground beef  0.015998    0.323450  3.291994"
            ],
            "text/html": [
              "\n",
              "  <div id=\"df-7d8cd775-1cbc-4710-8c1f-5bac9e0656e3\">\n",
              "    <div class=\"colab-df-container\">\n",
              "      <div>\n",
              "<style scoped>\n",
              "    .dataframe tbody tr th:only-of-type {\n",
              "        vertical-align: middle;\n",
              "    }\n",
              "\n",
              "    .dataframe tbody tr th {\n",
              "        vertical-align: top;\n",
              "    }\n",
              "\n",
              "    .dataframe thead th {\n",
              "        text-align: right;\n",
              "    }\n",
              "</style>\n",
              "<table border=\"1\" class=\"dataframe\">\n",
              "  <thead>\n",
              "    <tr style=\"text-align: right;\">\n",
              "      <th></th>\n",
              "      <th>lhs</th>\n",
              "      <th>rhs</th>\n",
              "      <th>support</th>\n",
              "      <th>confidence</th>\n",
              "      <th>lift</th>\n",
              "    </tr>\n",
              "  </thead>\n",
              "  <tbody>\n",
              "    <tr>\n",
              "      <th>1</th>\n",
              "      <td>pasta</td>\n",
              "      <td>escalope</td>\n",
              "      <td>0.005866</td>\n",
              "      <td>0.372881</td>\n",
              "      <td>4.700812</td>\n",
              "    </tr>\n",
              "    <tr>\n",
              "      <th>4</th>\n",
              "      <td>pasta</td>\n",
              "      <td>shrimp</td>\n",
              "      <td>0.005066</td>\n",
              "      <td>0.322034</td>\n",
              "      <td>4.506672</td>\n",
              "    </tr>\n",
              "    <tr>\n",
              "      <th>3</th>\n",
              "      <td>tomato sauce</td>\n",
              "      <td>ground beef</td>\n",
              "      <td>0.005333</td>\n",
              "      <td>0.377358</td>\n",
              "      <td>3.840659</td>\n",
              "    </tr>\n",
              "    <tr>\n",
              "      <th>0</th>\n",
              "      <td>mushroom cream sauce</td>\n",
              "      <td>escalope</td>\n",
              "      <td>0.005733</td>\n",
              "      <td>0.300699</td>\n",
              "      <td>3.790833</td>\n",
              "    </tr>\n",
              "    <tr>\n",
              "      <th>2</th>\n",
              "      <td>herb &amp; pepper</td>\n",
              "      <td>ground beef</td>\n",
              "      <td>0.015998</td>\n",
              "      <td>0.323450</td>\n",
              "      <td>3.291994</td>\n",
              "    </tr>\n",
              "  </tbody>\n",
              "</table>\n",
              "</div>\n",
              "      <button class=\"colab-df-convert\" onclick=\"convertToInteractive('df-7d8cd775-1cbc-4710-8c1f-5bac9e0656e3')\"\n",
              "              title=\"Convert this dataframe to an interactive table.\"\n",
              "              style=\"display:none;\">\n",
              "        \n",
              "  <svg xmlns=\"http://www.w3.org/2000/svg\" height=\"24px\"viewBox=\"0 0 24 24\"\n",
              "       width=\"24px\">\n",
              "    <path d=\"M0 0h24v24H0V0z\" fill=\"none\"/>\n",
              "    <path d=\"M18.56 5.44l.94 2.06.94-2.06 2.06-.94-2.06-.94-.94-2.06-.94 2.06-2.06.94zm-11 1L8.5 8.5l.94-2.06 2.06-.94-2.06-.94L8.5 2.5l-.94 2.06-2.06.94zm10 10l.94 2.06.94-2.06 2.06-.94-2.06-.94-.94-2.06-.94 2.06-2.06.94z\"/><path d=\"M17.41 7.96l-1.37-1.37c-.4-.4-.92-.59-1.43-.59-.52 0-1.04.2-1.43.59L10.3 9.45l-7.72 7.72c-.78.78-.78 2.05 0 2.83L4 21.41c.39.39.9.59 1.41.59.51 0 1.02-.2 1.41-.59l7.78-7.78 2.81-2.81c.8-.78.8-2.07 0-2.86zM5.41 20L4 18.59l7.72-7.72 1.47 1.35L5.41 20z\"/>\n",
              "  </svg>\n",
              "      </button>\n",
              "      \n",
              "  <style>\n",
              "    .colab-df-container {\n",
              "      display:flex;\n",
              "      flex-wrap:wrap;\n",
              "      gap: 12px;\n",
              "    }\n",
              "\n",
              "    .colab-df-convert {\n",
              "      background-color: #E8F0FE;\n",
              "      border: none;\n",
              "      border-radius: 50%;\n",
              "      cursor: pointer;\n",
              "      display: none;\n",
              "      fill: #1967D2;\n",
              "      height: 32px;\n",
              "      padding: 0 0 0 0;\n",
              "      width: 32px;\n",
              "    }\n",
              "\n",
              "    .colab-df-convert:hover {\n",
              "      background-color: #E2EBFA;\n",
              "      box-shadow: 0px 1px 2px rgba(60, 64, 67, 0.3), 0px 1px 3px 1px rgba(60, 64, 67, 0.15);\n",
              "      fill: #174EA6;\n",
              "    }\n",
              "\n",
              "    [theme=dark] .colab-df-convert {\n",
              "      background-color: #3B4455;\n",
              "      fill: #D2E3FC;\n",
              "    }\n",
              "\n",
              "    [theme=dark] .colab-df-convert:hover {\n",
              "      background-color: #434B5C;\n",
              "      box-shadow: 0px 1px 3px 1px rgba(0, 0, 0, 0.15);\n",
              "      filter: drop-shadow(0px 1px 2px rgba(0, 0, 0, 0.3));\n",
              "      fill: #FFFFFF;\n",
              "    }\n",
              "  </style>\n",
              "\n",
              "      <script>\n",
              "        const buttonEl =\n",
              "          document.querySelector('#df-7d8cd775-1cbc-4710-8c1f-5bac9e0656e3 button.colab-df-convert');\n",
              "        buttonEl.style.display =\n",
              "          google.colab.kernel.accessAllowed ? 'block' : 'none';\n",
              "\n",
              "        async function convertToInteractive(key) {\n",
              "          const element = document.querySelector('#df-7d8cd775-1cbc-4710-8c1f-5bac9e0656e3');\n",
              "          const dataTable =\n",
              "            await google.colab.kernel.invokeFunction('convertToInteractive',\n",
              "                                                     [key], {});\n",
              "          if (!dataTable) return;\n",
              "\n",
              "          const docLinkHtml = 'Like what you see? Visit the ' +\n",
              "            '<a target=\"_blank\" href=https://colab.research.google.com/notebooks/data_table.ipynb>data table notebook</a>'\n",
              "            + ' to learn more about interactive tables.';\n",
              "          element.innerHTML = '';\n",
              "          dataTable['output_type'] = 'display_data';\n",
              "          await google.colab.output.renderOutput(dataTable, element);\n",
              "          const docLink = document.createElement('div');\n",
              "          docLink.innerHTML = docLinkHtml;\n",
              "          element.appendChild(docLink);\n",
              "        }\n",
              "      </script>\n",
              "    </div>\n",
              "  </div>\n",
              "  "
            ]
          },
          "metadata": {},
          "execution_count": 3
        }
      ]
    },
    {
      "cell_type": "markdown",
      "source": [
        "Eclat is similar to apriori, In fact we model the data using apriori method only.\n",
        "Eclat algo doesn't return any potential rules like apriori, it deals with all the subsets with support greater than min support"
      ],
      "metadata": {
        "id": "jLR410VKHLLV"
      }
    },
    {
      "cell_type": "code",
      "source": [
        "def inspect(results):\n",
        "  lhs=[tuple(result[2][0][0])[0] for result in results]\n",
        "  rhs=[tuple(result[2][0][1])[0] for result in results]\n",
        "  supports=[result[1] for result in results]\n",
        "  \n",
        "  return list(zip(lhs, rhs, supports))\n",
        "\n",
        "result_df=pd.DataFrame(inspect(results), columns=['lhs','rhs', 'support'])\n",
        "# decreasing order by lift\n",
        "result_df.nlargest(n=10, columns=['support'])"
      ],
      "metadata": {
        "colab": {
          "base_uri": "https://localhost:8080/",
          "height": 206
        },
        "id": "LxU8z5a3HudU",
        "outputId": "f440a813-12e2-4c91-da8c-8bb7c093d03c"
      },
      "execution_count": 4,
      "outputs": [
        {
          "output_type": "execute_result",
          "data": {
            "text/plain": [
              "                    lhs          rhs   support\n",
              "2         herb & pepper  ground beef  0.015998\n",
              "1                 pasta     escalope  0.005866\n",
              "0  mushroom cream sauce     escalope  0.005733\n",
              "3          tomato sauce  ground beef  0.005333\n",
              "4                 pasta       shrimp  0.005066"
            ],
            "text/html": [
              "\n",
              "  <div id=\"df-6763fdde-7943-4199-91f4-77de0d0a3eb4\">\n",
              "    <div class=\"colab-df-container\">\n",
              "      <div>\n",
              "<style scoped>\n",
              "    .dataframe tbody tr th:only-of-type {\n",
              "        vertical-align: middle;\n",
              "    }\n",
              "\n",
              "    .dataframe tbody tr th {\n",
              "        vertical-align: top;\n",
              "    }\n",
              "\n",
              "    .dataframe thead th {\n",
              "        text-align: right;\n",
              "    }\n",
              "</style>\n",
              "<table border=\"1\" class=\"dataframe\">\n",
              "  <thead>\n",
              "    <tr style=\"text-align: right;\">\n",
              "      <th></th>\n",
              "      <th>lhs</th>\n",
              "      <th>rhs</th>\n",
              "      <th>support</th>\n",
              "    </tr>\n",
              "  </thead>\n",
              "  <tbody>\n",
              "    <tr>\n",
              "      <th>2</th>\n",
              "      <td>herb &amp; pepper</td>\n",
              "      <td>ground beef</td>\n",
              "      <td>0.015998</td>\n",
              "    </tr>\n",
              "    <tr>\n",
              "      <th>1</th>\n",
              "      <td>pasta</td>\n",
              "      <td>escalope</td>\n",
              "      <td>0.005866</td>\n",
              "    </tr>\n",
              "    <tr>\n",
              "      <th>0</th>\n",
              "      <td>mushroom cream sauce</td>\n",
              "      <td>escalope</td>\n",
              "      <td>0.005733</td>\n",
              "    </tr>\n",
              "    <tr>\n",
              "      <th>3</th>\n",
              "      <td>tomato sauce</td>\n",
              "      <td>ground beef</td>\n",
              "      <td>0.005333</td>\n",
              "    </tr>\n",
              "    <tr>\n",
              "      <th>4</th>\n",
              "      <td>pasta</td>\n",
              "      <td>shrimp</td>\n",
              "      <td>0.005066</td>\n",
              "    </tr>\n",
              "  </tbody>\n",
              "</table>\n",
              "</div>\n",
              "      <button class=\"colab-df-convert\" onclick=\"convertToInteractive('df-6763fdde-7943-4199-91f4-77de0d0a3eb4')\"\n",
              "              title=\"Convert this dataframe to an interactive table.\"\n",
              "              style=\"display:none;\">\n",
              "        \n",
              "  <svg xmlns=\"http://www.w3.org/2000/svg\" height=\"24px\"viewBox=\"0 0 24 24\"\n",
              "       width=\"24px\">\n",
              "    <path d=\"M0 0h24v24H0V0z\" fill=\"none\"/>\n",
              "    <path d=\"M18.56 5.44l.94 2.06.94-2.06 2.06-.94-2.06-.94-.94-2.06-.94 2.06-2.06.94zm-11 1L8.5 8.5l.94-2.06 2.06-.94-2.06-.94L8.5 2.5l-.94 2.06-2.06.94zm10 10l.94 2.06.94-2.06 2.06-.94-2.06-.94-.94-2.06-.94 2.06-2.06.94z\"/><path d=\"M17.41 7.96l-1.37-1.37c-.4-.4-.92-.59-1.43-.59-.52 0-1.04.2-1.43.59L10.3 9.45l-7.72 7.72c-.78.78-.78 2.05 0 2.83L4 21.41c.39.39.9.59 1.41.59.51 0 1.02-.2 1.41-.59l7.78-7.78 2.81-2.81c.8-.78.8-2.07 0-2.86zM5.41 20L4 18.59l7.72-7.72 1.47 1.35L5.41 20z\"/>\n",
              "  </svg>\n",
              "      </button>\n",
              "      \n",
              "  <style>\n",
              "    .colab-df-container {\n",
              "      display:flex;\n",
              "      flex-wrap:wrap;\n",
              "      gap: 12px;\n",
              "    }\n",
              "\n",
              "    .colab-df-convert {\n",
              "      background-color: #E8F0FE;\n",
              "      border: none;\n",
              "      border-radius: 50%;\n",
              "      cursor: pointer;\n",
              "      display: none;\n",
              "      fill: #1967D2;\n",
              "      height: 32px;\n",
              "      padding: 0 0 0 0;\n",
              "      width: 32px;\n",
              "    }\n",
              "\n",
              "    .colab-df-convert:hover {\n",
              "      background-color: #E2EBFA;\n",
              "      box-shadow: 0px 1px 2px rgba(60, 64, 67, 0.3), 0px 1px 3px 1px rgba(60, 64, 67, 0.15);\n",
              "      fill: #174EA6;\n",
              "    }\n",
              "\n",
              "    [theme=dark] .colab-df-convert {\n",
              "      background-color: #3B4455;\n",
              "      fill: #D2E3FC;\n",
              "    }\n",
              "\n",
              "    [theme=dark] .colab-df-convert:hover {\n",
              "      background-color: #434B5C;\n",
              "      box-shadow: 0px 1px 3px 1px rgba(0, 0, 0, 0.15);\n",
              "      filter: drop-shadow(0px 1px 2px rgba(0, 0, 0, 0.3));\n",
              "      fill: #FFFFFF;\n",
              "    }\n",
              "  </style>\n",
              "\n",
              "      <script>\n",
              "        const buttonEl =\n",
              "          document.querySelector('#df-6763fdde-7943-4199-91f4-77de0d0a3eb4 button.colab-df-convert');\n",
              "        buttonEl.style.display =\n",
              "          google.colab.kernel.accessAllowed ? 'block' : 'none';\n",
              "\n",
              "        async function convertToInteractive(key) {\n",
              "          const element = document.querySelector('#df-6763fdde-7943-4199-91f4-77de0d0a3eb4');\n",
              "          const dataTable =\n",
              "            await google.colab.kernel.invokeFunction('convertToInteractive',\n",
              "                                                     [key], {});\n",
              "          if (!dataTable) return;\n",
              "\n",
              "          const docLinkHtml = 'Like what you see? Visit the ' +\n",
              "            '<a target=\"_blank\" href=https://colab.research.google.com/notebooks/data_table.ipynb>data table notebook</a>'\n",
              "            + ' to learn more about interactive tables.';\n",
              "          element.innerHTML = '';\n",
              "          dataTable['output_type'] = 'display_data';\n",
              "          await google.colab.output.renderOutput(dataTable, element);\n",
              "          const docLink = document.createElement('div');\n",
              "          docLink.innerHTML = docLinkHtml;\n",
              "          element.appendChild(docLink);\n",
              "        }\n",
              "      </script>\n",
              "    </div>\n",
              "  </div>\n",
              "  "
            ]
          },
          "metadata": {},
          "execution_count": 4
        }
      ]
    }
  ]
}