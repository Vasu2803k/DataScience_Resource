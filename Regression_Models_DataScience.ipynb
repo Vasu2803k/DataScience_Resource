{
  "nbformat": 4,
  "nbformat_minor": 0,
  "metadata": {
    "colab": {
      "provenance": [],
      "collapsed_sections": [
        "Li_tgie3pxg-",
        "iPmpKN2SqtVv",
        "EfEy6EQkzQds",
        "NYeq_MM_bvcE",
        "SXg8kgcWzQtV",
        "7GNWqBqg09Vo",
        "AE8GAO1LvIkX",
        "rW8Y-etN2oNM",
        "KtKp6q5Jvz5P",
        "NHuNtTrqn3FN",
        "LLC9wIhfjAgu",
        "kQEgRnILTHIg",
        "nhxYr-EVn5pp",
        "iXSCw4iBAhNi"
      ]
    },
    "kernelspec": {
      "name": "python3",
      "display_name": "Python 3"
    },
    "language_info": {
      "name": "python"
    }
  },
  "cells": [
    {
      "cell_type": "markdown",
      "source": [
        "# Importing the libraries"
      ],
      "metadata": {
        "id": "Li_tgie3pxg-"
      }
    },
    {
      "cell_type": "code",
      "execution_count": null,
      "metadata": {
        "id": "5IUqGKWGoy2Q"
      },
      "outputs": [],
      "source": [
        "import numpy as np\n",
        "import matplotlib.pyplot as plt\n",
        "import pandas as pd"
      ]
    },
    {
      "cell_type": "markdown",
      "source": [
        "# Importing the Dataset"
      ],
      "metadata": {
        "id": "iPmpKN2SqtVv"
      }
    },
    {
      "cell_type": "code",
      "source": [
        "dataset=pd.read_csv(\"Data.csv\")\n",
        "x=dataset.iloc[:, :-1].values\n",
        "\n",
        "y=dataset.iloc[:,-1].values\n",
        "x,y"
      ],
      "metadata": {
        "colab": {
          "base_uri": "https://localhost:8080/"
        },
        "id": "de-Kqn1UqyGl",
        "outputId": "4858a585-d1b4-44b2-dae6-55926cd79dd2"
      },
      "execution_count": null,
      "outputs": [
        {
          "output_type": "execute_result",
          "data": {
            "text/plain": [
              "(array([['France', 44.0, 72000.0],\n",
              "        ['Spain', 27.0, 48000.0],\n",
              "        ['Germany', 30.0, 54000.0],\n",
              "        ['Spain', 38.0, 61000.0],\n",
              "        ['Germany', 40.0, nan],\n",
              "        ['France', 35.0, 58000.0],\n",
              "        ['Spain', nan, 52000.0],\n",
              "        ['France', 48.0, 79000.0],\n",
              "        ['Germany', 50.0, 83000.0],\n",
              "        ['France', 37.0, 67000.0]], dtype=object),\n",
              " array(['No', 'Yes', 'No', 'No', 'Yes', 'Yes', 'No', 'Yes', 'No', 'Yes'],\n",
              "       dtype=object))"
            ]
          },
          "metadata": {},
          "execution_count": 3
        }
      ]
    },
    {
      "cell_type": "markdown",
      "source": [
        "# Filling the Missing data"
      ],
      "metadata": {
        "id": "EfEy6EQkzQds"
      }
    },
    {
      "cell_type": "code",
      "source": [
        "# Adding the mean value would be better\n",
        "# Below code helps in replacing nan values with the mean value of the array\n",
        "from sklearn.impute import SimpleImputer\n",
        "imp_mean=SimpleImputer(missing_values=np.nan, strategy='mean')\n",
        "#Method1\n",
        "#imp_mean.fit(x[:,1:3]) # calculates mean\n",
        "#x[:,1:3]=imp_mean.transform(x[:,1:3]) # assigns and tranforms the array\n",
        "#Method 2\n",
        "x[:,1:3]=imp_mean.fit_transform(x[:,1:3])\n",
        "x\n"
      ],
      "metadata": {
        "colab": {
          "base_uri": "https://localhost:8080/"
        },
        "id": "u6qYxAbozVeY",
        "outputId": "c30f8d4a-c8e4-4a49-b5f1-9d47a24a075b"
      },
      "execution_count": null,
      "outputs": [
        {
          "output_type": "execute_result",
          "data": {
            "text/plain": [
              "array([['France', 44.0, 72000.0],\n",
              "       ['Spain', 27.0, 48000.0],\n",
              "       ['Germany', 30.0, 54000.0],\n",
              "       ['Spain', 38.0, 61000.0],\n",
              "       ['Germany', 40.0, 63777.77777777778],\n",
              "       ['France', 35.0, 58000.0],\n",
              "       ['Spain', 38.77777777777778, 52000.0],\n",
              "       ['France', 48.0, 79000.0],\n",
              "       ['Germany', 50.0, 83000.0],\n",
              "       ['France', 37.0, 67000.0]], dtype=object)"
            ]
          },
          "metadata": {},
          "execution_count": 4
        }
      ]
    },
    {
      "cell_type": "markdown",
      "source": [
        "# Encoding categorical data"
      ],
      "metadata": {
        "id": "NYeq_MM_bvcE"
      }
    },
    {
      "cell_type": "code",
      "source": [
        "# Now, encode the categorical data to ease the modelling\n",
        "# Encoding is done using LabelEncoder and OneHotCoder\n",
        "# OneHotEncoder -- Encoding other than yes/no data\n",
        "from sklearn.compose import ColumnTransformer\n",
        "from sklearn.preprocessing import OneHotEncoder\n",
        "ct=ColumnTransformer(transformers=[('encoder', OneHotEncoder(),[0])], remainder='passthrough')\n",
        "x=(ct.fit_transform(x))\n",
        "x\n",
        "\n",
        "# After transforming the columns which are dummy variables always omit one dummy variable to stay safe from dummy variable trap\n",
        "# Dummy variable trap is nothing but multi-collinearity where one or several independent features/variables predict another\n",
        "# Multi-collinearity should not be there while building a linear regression model\n",
        "\n",
        "\n",
        "# Assumptions for linear regression model\n",
        "# Linearity\n",
        "# Homoscedasticity - equal variance\n",
        "# Multivariate normality (Normality of error distribution)\n",
        "# Lack of Multicollinearity\n",
        "# Independence - No autocorrelation "
      ],
      "metadata": {
        "colab": {
          "base_uri": "https://localhost:8080/"
        },
        "id": "zvFkS4sLbz4e",
        "outputId": "2a8ab81e-b8b9-4510-bcfc-3218ea7c84e1"
      },
      "execution_count": null,
      "outputs": [
        {
          "output_type": "execute_result",
          "data": {
            "text/plain": [
              "array([[1.0, 0.0, 0.0, 44.0, 72000.0],\n",
              "       [0.0, 0.0, 1.0, 27.0, 48000.0],\n",
              "       [0.0, 1.0, 0.0, 30.0, 54000.0],\n",
              "       [0.0, 0.0, 1.0, 38.0, 61000.0],\n",
              "       [0.0, 1.0, 0.0, 40.0, 63777.77777777778],\n",
              "       [1.0, 0.0, 0.0, 35.0, 58000.0],\n",
              "       [0.0, 0.0, 1.0, 38.77777777777778, 52000.0],\n",
              "       [1.0, 0.0, 0.0, 48.0, 79000.0],\n",
              "       [0.0, 1.0, 0.0, 50.0, 83000.0],\n",
              "       [1.0, 0.0, 0.0, 37.0, 67000.0]], dtype=object)"
            ]
          },
          "metadata": {},
          "execution_count": 5
        }
      ]
    },
    {
      "cell_type": "code",
      "source": [
        "# LabelEncoder\n",
        "from sklearn.preprocessing import LabelEncoder\n",
        "le=LabelEncoder()\n",
        "y=le.fit_transform(y)\n",
        "y"
      ],
      "metadata": {
        "id": "zq6IZI5Yddz6",
        "colab": {
          "base_uri": "https://localhost:8080/"
        },
        "outputId": "e576820c-034f-4fe6-f1d2-84368423c9ef"
      },
      "execution_count": null,
      "outputs": [
        {
          "output_type": "execute_result",
          "data": {
            "text/plain": [
              "array([0, 1, 0, 0, 1, 1, 0, 1, 0, 1])"
            ]
          },
          "metadata": {},
          "execution_count": 6
        }
      ]
    },
    {
      "cell_type": "markdown",
      "source": [
        "# Splitting the dataset into the training set and test set"
      ],
      "metadata": {
        "id": "SXg8kgcWzQtV"
      }
    },
    {
      "cell_type": "code",
      "source": [
        "from sklearn.model_selection import train_test_split\n",
        "x_train,x_test,y_train,y_test=train_test_split(x,y,test_size=0.2,random_state=1)\n",
        "# this creates 4 array of diff datasets used for the model\n",
        "x_train,x_test,y_train,y_test"
      ],
      "metadata": {
        "colab": {
          "base_uri": "https://localhost:8080/"
        },
        "id": "ltii9Gzsz3w5",
        "outputId": "4fbe9270-de37-400f-e6f9-a34394bc6d26"
      },
      "execution_count": null,
      "outputs": [
        {
          "output_type": "execute_result",
          "data": {
            "text/plain": [
              "(array([[0.0, 0.0, 1.0, 38.77777777777778, 52000.0],\n",
              "        [0.0, 1.0, 0.0, 40.0, 63777.77777777778],\n",
              "        [1.0, 0.0, 0.0, 44.0, 72000.0],\n",
              "        [0.0, 0.0, 1.0, 38.0, 61000.0],\n",
              "        [0.0, 0.0, 1.0, 27.0, 48000.0],\n",
              "        [1.0, 0.0, 0.0, 48.0, 79000.0],\n",
              "        [0.0, 1.0, 0.0, 50.0, 83000.0],\n",
              "        [1.0, 0.0, 0.0, 35.0, 58000.0]], dtype=object),\n",
              " array([[0.0, 1.0, 0.0, 30.0, 54000.0],\n",
              "        [1.0, 0.0, 0.0, 37.0, 67000.0]], dtype=object),\n",
              " array([0, 1, 0, 0, 1, 1, 0, 1]),\n",
              " array([0, 1]))"
            ]
          },
          "metadata": {},
          "execution_count": 8
        }
      ]
    },
    {
      "cell_type": "markdown",
      "source": [
        "# Feature Scaling"
      ],
      "metadata": {
        "id": "7GNWqBqg09Vo"
      }
    },
    {
      "cell_type": "code",
      "source": [
        "# It is a technique for standardization of independent variables or features to keep the value in a fixed range ensuring one feature does not dominate others.\n",
        "from sklearn.preprocessing import StandardScaler\n",
        "sc=StandardScaler()\n",
        "x_train=sc.fit_transform(x_train) \n",
        "x_test=sc.transform(x_test) # Same scaling should be applied to test set as it should predict the output wrt the training set\n",
        "# so only tranform method is applied without explicit calculation of std and mean using fit method as we already performed it in above training set\n",
        "\n",
        "x_train, x_test"
      ],
      "metadata": {
        "colab": {
          "base_uri": "https://localhost:8080/"
        },
        "id": "KjkjxtD_1A3w",
        "outputId": "00bce16d-7e4b-4d8a-8fdb-73359c98ece9"
      },
      "execution_count": null,
      "outputs": [
        {
          "output_type": "execute_result",
          "data": {
            "text/plain": [
              "(array([[-0.77459667, -0.57735027,  1.29099445, -0.19159184, -1.07812594],\n",
              "        [-0.77459667,  1.73205081, -0.77459667, -0.01411729, -0.07013168],\n",
              "        [ 1.29099445, -0.57735027, -0.77459667,  0.56670851,  0.63356243],\n",
              "        [-0.77459667, -0.57735027,  1.29099445, -0.30453019, -0.30786617],\n",
              "        [-0.77459667, -0.57735027,  1.29099445, -1.90180114, -1.42046362],\n",
              "        [ 1.29099445, -0.57735027, -0.77459667,  1.14753431,  1.23265336],\n",
              "        [-0.77459667,  1.73205081, -0.77459667,  1.43794721,  1.57499104],\n",
              "        [ 1.29099445, -0.57735027, -0.77459667, -0.74014954, -0.56461943]]),\n",
              " array([[-0.77459667,  1.73205081, -0.77459667, -1.46618179, -0.9069571 ],\n",
              "        [ 1.29099445, -0.57735027, -0.77459667, -0.44973664,  0.20564034]]))"
            ]
          },
          "metadata": {},
          "execution_count": 9
        }
      ]
    },
    {
      "cell_type": "markdown",
      "source": [
        "# Gradient Descent Method code\n",
        "find the best fit line of the dataset -- using derviaties \n",
        "-> To minimise the mean squared error\n",
        "\n"
      ],
      "metadata": {
        "id": "AE8GAO1LvIkX"
      }
    },
    {
      "cell_type": "code",
      "source": [
        "\n",
        "def gradient_descent(x,y):\n",
        "  m_curr=b_curr=0\n",
        "  iterations=10000\n",
        "  learning_rate=0.001\n",
        "  n=len(x)\n",
        "  for i in range(iterations):\n",
        "    y_predicted=m_curr*x+b_curr\n",
        "    cost_func=(1/n)*(sum(pow(y-y_predicted,2)))\n",
        "    md=-(2/n)*sum(x*(y-y_predicted))\n",
        "    bd=-(2/n)*sum((y-y_predicted))\n",
        "    m_curr=m_curr-(learning_rate*md)\n",
        "    b_curr=b_curr-(learning_rate*bd)\n",
        "    plt.plot(x,y_predicted)\n",
        "    \n",
        "    #print(f\"m {m_curr} y {b_curr} cost_func {cost_func} iteration {i}\")\n",
        "    #print(f\"cost_func {cost_func} iteration {i}\")\n",
        "\n",
        "x=np.array([1,2,3,4,5])\n",
        "y=np.array([5,7,9,11,13])\n",
        "plt.scatter(x,y)\n",
        "gradient_descent(x,y)"
      ],
      "metadata": {
        "colab": {
          "base_uri": "https://localhost:8080/",
          "height": 265
        },
        "id": "JkVF3tgrvvkL",
        "outputId": "5cdf3c1b-45a5-43bf-a142-29d591fffbc6"
      },
      "execution_count": null,
      "outputs": [
        {
          "output_type": "display_data",
          "data": {
            "text/plain": [
              "<Figure size 432x288 with 1 Axes>"
            ],
            "image/png": "[encoded data removed]"
          },
          "metadata": {
            "needs_background": "light"
          }
        }
      ]
    },
    {
      "cell_type": "markdown",
      "source": [
        "# Simple Linear Regression (SLR)"
      ],
      "metadata": {
        "id": "rW8Y-etN2oNM"
      }
    },
    {
      "cell_type": "code",
      "source": [
        "# model which has the linear correlation - relationship between the features\n",
        "import numpy as np\n",
        "import matplotlib.pyplot as plt\n",
        "import pandas as pd\n",
        "from sklearn.impute import SimpleImputer\n",
        "from sklearn.model_selection import train_test_split\n",
        "from sklearn import linear_model\n",
        "\n",
        "# importing the data\n",
        "dataset=pd.read_csv(\"Salary_Data.csv\")\n",
        "# storing the data in a numpy array -- independent and dependent features in diff array's\n",
        "x=dataset.iloc[:, :-1].values\n",
        "y=dataset.iloc[:,-1].values\n",
        "\n",
        "# filling the missing data with mean value\n",
        "imp_mean=SimpleImputer(missing_values=np.nan, strategy='mean')\n",
        "x=imp_mean.fit_transform(x)\n",
        "\n",
        "# Encoding is not required as the data constitutes only numerical data not categorical data\n",
        "# Now splitting the dataset in to training set and test set\n",
        "x_train, x_test, y_train, y_test=train_test_split(x,y,test_size=0.2,random_state=0) \n",
        "# Assign any random value to random_state to enusre that the dataset(training and testing) should not change after each execution\n",
        "# if random value needs to generated then the best random state should be applied while splitting the dataset\n",
        "\n",
        "# create the regressor object\n",
        "regressor=linear_model.LinearRegression()\n",
        "regressor.fit(x_train, y_train)\n",
        "y_predicted=regressor.predict(x_test)\n",
        "#plt.scatter(x_train, y_train,c='red')\n",
        "plt.scatter(x_test,y_test, c='red')\n",
        "plt.plot(x_train, regressor.predict(x_train), c='blue')\n",
        "plt.show()"
      ],
      "metadata": {
        "id": "7fcTD9Vi2s1e"
      },
      "execution_count": null,
      "outputs": []
    },
    {
      "cell_type": "markdown",
      "source": [
        "# Save model to file"
      ],
      "metadata": {
        "id": "KtKp6q5Jvz5P"
      }
    },
    {
      "cell_type": "code",
      "source": [
        "import pickle as pi\n",
        "with open(\"model.csv\", 'wb') as f:\n",
        "  pi.dump(regressor,f)\n",
        "  "
      ],
      "metadata": {
        "id": "zfdx6JDQv3vE"
      },
      "execution_count": null,
      "outputs": []
    },
    {
      "cell_type": "markdown",
      "source": [
        "# Multiple Linear Regression (MLR)\n"
      ],
      "metadata": {
        "id": "NHuNtTrqn3FN"
      }
    },
    {
      "cell_type": "code",
      "source": [
        "# model which has the linear correlation - relationship between the features\n",
        "import numpy as np\n",
        "import matplotlib.pyplot as plt\n",
        "import pandas as pd\n",
        "from sklearn.impute import SimpleImputer\n",
        "from sklearn.model_selection import train_test_split\n",
        "from sklearn import linear_model\n",
        "from sklearn.compose import ColumnTransformer\n",
        "from sklearn.preprocessing import OneHotEncoder\n",
        "# importing the data\n",
        "dataset=pd.read_csv(\"50_Startups.csv\")\n",
        "# storing the data in a numpy array -- independent and dependent features in diff array's\n",
        "x=dataset.iloc[:, :-1].values\n",
        "y=dataset.iloc[:,-1].values\n",
        "\n",
        "# filling the missing data with mean value\n",
        "imp_mean=SimpleImputer(missing_values=np.nan, strategy='mean')\n",
        "x[:,:-1]=imp_mean.fit_transform(x[:,:-1])\n",
        "\n",
        "# Encoding the categorical data --> state in this case\n",
        "ct=ColumnTransformer(transformers=[('encoder', OneHotEncoder(), [3])], remainder='passthrough')\n",
        "x=ct.fit_transform(x)\n",
        "\n",
        "# Dummy variable trap is automatically handled by linear regression models\n",
        "# split the dataset\n",
        "x_train,x_test, y_train, y_test=train_test_split(x,y,test_size=0.2,random_state=1)\n",
        "# specify the random state or else training and test data will change randomly every time we execute which becomes difficult for analysing\n",
        "\n",
        "# build and fit the model\n",
        "regressor=linear_model.LinearRegression()\n",
        "regressor.fit(x_train,y_train)\n",
        "\n",
        "# predict the values\n",
        "y_predicted=regressor.predict(x_test)\n",
        "\n",
        "# to analyse lets reshape our arrays \n",
        "np.set_printoptions(precision=2)\n",
        "print(np.concatenate((y_test.reshape((len(y_test),1)), y_predicted.reshape(len(y_predicted),1)), axis=1))\n",
        "\n",
        "# Feature Scaling is taken care by linear regression models -> the features and its coefficients compensates the scaling.\n",
        "# it is done after splitting the dataset to keep the values in a fixed range to ensure that it does not calculate mean and std for the \n",
        "# whole data --> We need to make our test set adapt to other values wrt training set\n"
      ],
      "metadata": {
        "id": "SPnmTdV0n___"
      },
      "execution_count": null,
      "outputs": []
    },
    {
      "cell_type": "markdown",
      "source": [
        "# Polynomial Regression"
      ],
      "metadata": {
        "id": "LLC9wIhfjAgu"
      }
    },
    {
      "cell_type": "markdown",
      "source": [
        "Actually, it is the polynomial linear regression"
      ],
      "metadata": {
        "id": "Zr2xzjXCjGvL"
      }
    },
    {
      "cell_type": "code",
      "source": [
        "# we just need to transform the features \n",
        "# data -> polynomial_transform -> linear_regression -> predictions\n",
        "# it is called as polynomial linear regression because it is the linear combination of coefficients\n",
        "# as when it comes to regression we talk about the coeffients \n",
        "# It also follows the gradient descent method -- finding the best line on the dataset\n",
        "# model which has the linear correlation - relationship between the features\n",
        "import numpy as np\n",
        "import matplotlib.pyplot as plt\n",
        "import pandas as pd\n",
        "from sklearn import linear_model\n",
        "from sklearn.preprocessing import PolynomialFeatures\n",
        "# importing the data\n",
        "dataset=pd.read_csv(\"Position_Salaries.csv\")\n",
        "# storing the data in a numpy array -- independent and dependent features in diff array's\n",
        "x=dataset.iloc[:, 1:-1].values\n",
        "y=dataset.iloc[:,-1].values\n",
        "\n",
        "# build and fit the model\n",
        "lin_reg=linear_model.LinearRegression()\n",
        "lin_reg.fit(x,y)\n",
        "# x should be 2d array -> Several independent features\n",
        "\n",
        "# predict the values\n",
        "lin_reg_y_predicted=lin_reg.predict(x)\n",
        "\n",
        "plt.plot(x, lin_reg_y_predicted,c='green')\n",
        "\n",
        "#poly_f=PolynomialFeatures(degree=2)\n",
        "\n",
        "poly_f=PolynomialFeatures(degree=4)\n",
        "x_poly=poly_f.fit_transform(x)\n",
        "\n",
        "lin_reg_2=linear_model.LinearRegression()\n",
        "lin_reg_2.fit(x_poly,y)\n",
        "plt.scatter(x,y, c='red')\n",
        "plt.plot(x, lin_reg_2.predict(x_poly),c='blue')\n",
        "\n"
      ],
      "metadata": {
        "id": "EAzngrhjjOgH"
      },
      "execution_count": null,
      "outputs": []
    },
    {
      "cell_type": "markdown",
      "source": [
        "Making the curve smooth"
      ],
      "metadata": {
        "id": "OrW4UvzsFRjZ"
      }
    },
    {
      "cell_type": "code",
      "source": [
        "# creating an array with arange function \n",
        "x_new=np.arange(min(x), max(x), 0.1) # Making the curve smooth\n",
        "x_new=x_new.reshape(len(x_new),1)\n",
        "plt.scatter(x,y,c='red')\n",
        "plt.plot(x, lin_reg_y_predicted,c='pink')\n",
        "plt.plot(x, lin_reg_2.predict(x_poly),c='blue')\n",
        "plt.plot(x_new, lin_reg_2.predict(poly_f.fit_transform(x_new)),c='green')"
      ],
      "metadata": {
        "id": "gy5mWXoPFVRG"
      },
      "execution_count": null,
      "outputs": []
    },
    {
      "cell_type": "markdown",
      "source": [
        "# Support Vector for Regression"
      ],
      "metadata": {
        "id": "kQEgRnILTHIg"
      }
    },
    {
      "cell_type": "code",
      "source": [
        " # support vector machine\n",
        " # It has various functions -- the best one we apply is gaussian radial basis function kernel\n",
        " # The support vector for regression model is used when marginalised error is being considered.\n",
        " # It is called SVR because it has support vectors to support the tube of ksi - insensitive tube (Errors are ignored inside the tube)\n",
        " # Feature scaling also need to be applied for the independent variable and dependent variable(when values are large than independent variable) because no compensation\n",
        " # -- of coffiencients are being done incase of svr like slr,plr,mlr.\n",
        " # To visualise, we need to use the inverse_transform method of scaling object\n",
        "\n",
        "import numpy as np\n",
        "import pandas as pd\n",
        "import matplotlib.pyplot as plt\n",
        "from sklearn.preprocessing import StandardScaler\n",
        "from sklearn.svm import SVR\n",
        "\n",
        "dataset=pd.read_csv(\"Position_Salaries.csv\")\n",
        "x=dataset.iloc[:, 1:-1].values\n",
        "y=dataset.iloc[:,-1].values\n",
        "y=y.reshape(len(y),1)\n",
        "# feature sclaring\n",
        "# apply on x and y as the dependent var are larger\n",
        "sc_x=StandardScaler()\n",
        "x=sc_x.fit_transform(x)\n",
        "sc_y=StandardScaler()\n",
        "y=sc_y.fit_transform(y)\n",
        "\n",
        "# fit the model using rbf kernel\n",
        "regressor=SVR(kernel='rbf')\n",
        "regressor.fit(x,y)\n",
        "\n",
        "# predictions\n",
        "sc_y.inverse_transform(regressor.predict(sc_x.transform([[6.5]])).reshape(-1,1)) # accepts a 2d array of transformed value\n",
        "\n",
        "# visualize the data\n",
        "plt.scatter(sc_x.inverse_transform(x), sc_y.inverse_transform(y),c='red')\n",
        "plt.plot(sc_x.inverse_transform(x), sc_y.inverse_transform(regressor.predict(x).reshape(-1,1)),c='blue')\n",
        "plt.show()\n"
      ],
      "metadata": {
        "id": "k8hp2gcETLr3"
      },
      "execution_count": null,
      "outputs": []
    },
    {
      "cell_type": "markdown",
      "source": [
        "For higher resolution and smoother curve"
      ],
      "metadata": {
        "id": "MUoPyLHu71fy"
      }
    },
    {
      "cell_type": "code",
      "source": [
        "x_new=np.arange(min(sc_x.inverse_transform(x)), max(sc_x.inverse_transform(x)), 0.1)\n",
        "x_new=x_new.reshape(len(x_new),1)\n",
        "\n",
        "plt.scatter(sc_x.inverse_transform(x), sc_y.inverse_transform(y), c='red')\n",
        "plt.plot(x_new, sc_y.inverse_transform(regressor.predict(sc_x.transform(x_new)).reshape(-1,1)), c='blue')\n",
        "plt.show()"
      ],
      "metadata": {
        "id": "j-p2hoji79ks"
      },
      "execution_count": null,
      "outputs": []
    },
    {
      "cell_type": "markdown",
      "source": [
        "# Decision Tree Regression"
      ],
      "metadata": {
        "id": "nhxYr-EVn5pp"
      }
    },
    {
      "cell_type": "code",
      "source": [
        "# This regression is suitable for dataset with many independent features\n",
        "# No feature scaling is required for decision tree regression and random forest regression as algorithm is applied on the dataset and average value is calculated of every termnal leaf\n",
        "# In decision tree regression, the data is splitted into split sets or terminal leaf's\n",
        "# For every terminal leaf, the average is calculated of actual y values after training the data\n",
        "# the data that fall in same terminal will have the same predicted value as the average value is same for terminal leaf\n",
        "# The predictions are obtained from successive splits of the data\n",
        "import numpy as np\n",
        "import pandas as pdg                                                                                                                        \n",
        "import matplotlib.pyplot as plt\n",
        "from sklearn.tree import DecisionTreeRegressor\n",
        "\n",
        "dataset=pd.read_csv(\"Position_Salaries.csv\")\n",
        "x_=dataset.iloc[:,1:-1].values\n",
        "y_=dataset.iloc[:,-1].values \n",
        "\n",
        "# no feature scaling \n",
        "# no splitting of data as we need to leverage the full data for training\n",
        "regressor=DecisionTreeRegressor(random_state=0)\n",
        "# Need to assign the random state or else everytime we execute the code this model splits the data differently every time and we get the diff output/predictions\n",
        "regressor.fit(x_,y_)\n",
        "\n",
        "\n",
        "\n",
        "# visualization\n",
        "plt.scatter(x_,y_, c='r')\n",
        "plt.plot(x_,regressor.predict(x_),c='b' )\n",
        "plt.show()\n",
        "# for higher resolution\n",
        "x_new=np.arange(min(x_), max(x_),0.1)\n",
        "x_new=x_new.reshape(len(x_new),1)\n",
        "plt.scatter(x_,y_, c='r')\n",
        "plt.plot(x_new,regressor.predict(x_new),c='b' )"
      ],
      "metadata": {
        "id": "eSyDOehWn9u1"
      },
      "execution_count": null,
      "outputs": []
    },
    {
      "cell_type": "markdown",
      "source": [
        "# Random Forest Regression"
      ],
      "metadata": {
        "id": "iXSCw4iBAhNi"
      }
    },
    {
      "cell_type": "code",
      "source": [
        "# Ensemble learning - use multiple learning algorithms or same algorithm multiple times for a better predictive performance than that could be obtained from any of the learning algorithms alone.\n",
        "# Random forest regression is a version of ensemble learning\n",
        "# first we choose k random data points from the training set and then build the decision tree\n",
        "# choose the number Ntree of trees and repeat the steps \n",
        "# now predict for every decision tree and take the average of all these values\n",
        "import numpy as np\n",
        "import pandas as pd\n",
        "import matplotlib.pyplot as plt\n",
        "from sklearn.ensemble import RandomForestRegressor\n",
        "\n",
        "dataset=pd.read_csv(\"Position_Salaries.csv\")\n",
        "x_=dataset.iloc[:,1:-1].values\n",
        "y=dataset.iloc[:,-1].values \n",
        "\n",
        "regressor=RandomForestRegressor(n_estimators=100, random_state=0)\n",
        "# the no of trees increases, better the performance\n",
        "regressor.fit(x,y)\n",
        "\n",
        "# predictions\n",
        "regressor.predict([[6.5]])\n",
        "\n",
        "x_new=np.arange(min(x), max(x),0.1)\n",
        "x_new=x_new.reshape(len(x_new),1)\n",
        "plt.scatter(x,y,c='brown')\n",
        "plt.plot(x_new, regressor.predict(x_new), c='green')\n",
        "plt.show()\n"
      ],
      "metadata": {
        "id": "P5-m6rnGAoI6"
      },
      "execution_count": null,
      "outputs": []
    },
    {
      "cell_type": "markdown",
      "source": [],
      "metadata": {
        "id": "iOADaQ4JAv7b"
      }
    },
    {
      "cell_type": "markdown",
      "source": [
        "# Application of all models on a single dataset and comparing the r2_score "
      ],
      "metadata": {
        "id": "5BNPm2WkbCFV"
      }
    },
    {
      "cell_type": "markdown",
      "source": [
        "Evaluation of different models"
      ],
      "metadata": {
        "id": "yRcm0VWZbLRS"
      }
    },
    {
      "cell_type": "markdown",
      "source": [
        "Multiple Linear Regression"
      ],
      "metadata": {
        "id": "6Tp_YSsgbQIk"
      }
    },
    {
      "cell_type": "code",
      "source": [
        "\n",
        "import numpy as np\n",
        "import pandas as pd\n",
        "import matplotlib.pyplot as plt\n",
        "from sklearn.linear_model import LinearRegression\n",
        "from sklearn.model_selection import train_test_split\n",
        "from sklearn.impute import SimpleImputer\n",
        "from sklearn.preprocessing import StandardScaler\n",
        "from sklearn.preprocessing import PolynomialFeatures\n",
        "from sklearn.compose import ColumnTransformer\n",
        "from sklearn.preprocessing import OneHotEncoder\n",
        "from sklearn.preprocessing import LabelEncoder\n",
        "from sklearn.metrics import r2_score\n",
        "from sklearn.tree import DecisionTreeRegressor\n",
        "from sklearn.svm import SVR\n",
        "from sklearn.ensemble import RandomForestRegressor\n",
        "\n",
        "\n",
        "dataset=pd.read_csv(\"Data.csv\")\n",
        "x=dataset.iloc[:, :-1].values\n",
        "y=dataset.iloc[:,-1].values\n",
        "\n",
        "# Scaling is compensated with the coefficients \n",
        "# No categorical data so no enocoding is done\n",
        "dataset.isna().values.sum()\n",
        "# no null values so go to go for splitting the data\n",
        "x_train,x_test, y_train, y_test=train_test_split(x,y,test_size=0.20,random_state=1)\n",
        "\n",
        "# lets train the model\n",
        "regressor=LinearRegression()\n",
        "regressor.fit(x_train,y_train)\n",
        "# predictions\n",
        "y_predicted=regressor.predict(x_test)\n",
        "np.set_printoptions(precision=2)\n",
        "np.concatenate((y_test.reshape(len(y_test),1), y_predicted.reshape(len(y_predicted),1)), axis=1)\n",
        "# np.concatenate((arr1,arr2,arr3...), axis=0)\n",
        "# visualize the data for test set\n",
        "# higher dimesionality cannot be visulaized\n",
        "# evaluate the model\n",
        "regressor.score(x_train,y_train),regressor.score(x_test,y_test)\n",
        "\n",
        "score=r2_score(y_test,y_predicted)\n",
        "print(score)\n"
      ],
      "metadata": {
        "colab": {
          "base_uri": "https://localhost:8080/"
        },
        "id": "BvCiG36JbPLc",
        "outputId": "b9bf3635-82b1-45e8-b728-efe573cd0c0d"
      },
      "execution_count": 5,
      "outputs": [
        {
          "output_type": "stream",
          "name": "stdout",
          "text": [
            "0.9321860060402447\n"
          ]
        }
      ]
    },
    {
      "cell_type": "markdown",
      "source": [
        "Polynomial Regression"
      ],
      "metadata": {
        "id": "xKC60fSQj2Gg"
      }
    },
    {
      "cell_type": "code",
      "source": [
        "\n",
        "import numpy as np\n",
        "import pandas as pd\n",
        "import matplotlib.pyplot as plt\n",
        "from sklearn.linear_model import LinearRegression\n",
        "from sklearn.model_selection import train_test_split\n",
        "from sklearn.impute import SimpleImputer\n",
        "from sklearn.preprocessing import StandardScaler\n",
        "from sklearn.preprocessing import PolynomialFeatures\n",
        "from sklearn.compose import ColumnTransformer\n",
        "from sklearn.preprocessing import OneHotEncoder\n",
        "from sklearn.preprocessing import LabelEncoder\n",
        "from sklearn.metrics import r2_score\n",
        "from sklearn.tree import DecisionTreeRegressor\n",
        "from sklearn.svm import SVR\n",
        "from sklearn.ensemble import RandomForestRegressor\n",
        "\n",
        "\n",
        "dataset=pd.read_csv(\"Data.csv\")\n",
        "x=dataset.iloc[:, :-1].values\n",
        "y=dataset.iloc[:,-1].values\n",
        "\n",
        "# Scaling is compensated with the coefficients \n",
        "# No categorical data so no enocoding is done\n",
        "dataset.isna().values.sum()\n",
        "# no null values so good to go for splitting the data\n",
        "x_train,x_test, y_train, y_test=train_test_split(x,y,test_size=0.20,random_state=1)\n",
        "\n",
        "poly=PolynomialFeatures(degree=4)\n",
        "x_train_poly=poly.fit_transform(x_train)\n",
        "x_test_poly=poly.fit_transform(x_test)\n",
        "\n",
        "regressor=LinearRegression()\n",
        "regressor.fit(x_train_poly,y_train)\n",
        "\n",
        "# predictions\n",
        "y_predicted=regressor.predict(x_test_poly)\n",
        "np.set_printoptions(precision=2)\n",
        "np.concatenate((y_test.reshape(len(y_test),1), y_predicted.reshape(len(y_predicted),1)), axis=1)\n",
        "\n",
        "score=r2_score(y_test,y_predicted)\n",
        "print(score)\n"
      ],
      "metadata": {
        "colab": {
          "base_uri": "https://localhost:8080/"
        },
        "id": "EKHcn_WAj4wl",
        "outputId": "3e18ce00-3284-483f-8a46-1dc49b0d2201"
      },
      "execution_count": 4,
      "outputs": [
        {
          "output_type": "stream",
          "name": "stdout",
          "text": [
            "0.9447340108958184\n"
          ]
        }
      ]
    },
    {
      "cell_type": "markdown",
      "source": [
        "Support Vector Regression"
      ],
      "metadata": {
        "id": "8_o2U8KzmZZI"
      }
    },
    {
      "cell_type": "code",
      "source": [
        "import numpy as np\n",
        "import pandas as pd\n",
        "import matplotlib.pyplot as plt\n",
        "from sklearn.linear_model import LinearRegression\n",
        "from sklearn.model_selection import train_test_split\n",
        "from sklearn.impute import SimpleImputer\n",
        "from sklearn.preprocessing import StandardScaler\n",
        "from sklearn.preprocessing import PolynomialFeatures\n",
        "from sklearn.compose import ColumnTransformer\n",
        "from sklearn.preprocessing import OneHotEncoder\n",
        "from sklearn.preprocessing import LabelEncoder\n",
        "from sklearn.metrics import r2_score\n",
        "from sklearn.tree import DecisionTreeRegressor\n",
        "from sklearn.svm import SVR\n",
        "from sklearn.ensemble import RandomForestRegressor\n",
        "\n",
        "\n",
        "dataset=pd.read_csv(\"Data.csv\")\n",
        "x=dataset.iloc[:, :-1].values\n",
        "y=dataset.iloc[:,-1].values\n",
        "\n",
        "# Scaling is compensated with the coefficients \n",
        "# No categorical data so no enocoding is done\n",
        "dataset.isna().values.sum()\n",
        "# no null values so good to go for splitting the data\n",
        "x_train,x_test, y_train, y_test=train_test_split(x,y,test_size=0.20,random_state=1)\n",
        "\n",
        "# feature scaling is required for the support vector regression\n",
        "sc_x=StandardScaler()\n",
        "x_train=sc_x.fit_transform(x_train)\n",
        "# no need to fit again for test set as the same scaling done train set should be applied on test set\n",
        "x_test=sc_x.transform(x_test)\n",
        "sc_y=StandardScaler()\n",
        "y_train=y_train.reshape(len(y_train),1)\n",
        "y_train=sc_y.fit_transform(y_train)\n",
        "\n",
        "regressor=SVR(kernel='rbf')\n",
        "regressor.fit(x_train,y_train)\n",
        "\n",
        "# predictions\n",
        "y_predicted=sc_y.inverse_transform(regressor.predict(x_test).reshape(-1,1))\n",
        "np.set_printoptions(precision=2)\n",
        "np.concatenate((y_test.reshape(len(y_test),1), y_predicted), axis=1)\n",
        "\n",
        "score=r2_score(y_test,y_predicted)\n",
        "print(score)"
      ],
      "metadata": {
        "colab": {
          "base_uri": "https://localhost:8080/"
        },
        "id": "dGRBWyjMrn3X",
        "outputId": "856cfb51-9424-408c-d16d-9056efed8ede"
      },
      "execution_count": 3,
      "outputs": [
        {
          "output_type": "stream",
          "name": "stderr",
          "text": [
            "/usr/local/lib/python3.8/dist-packages/sklearn/utils/validation.py:993: DataConversionWarning: A column-vector y was passed when a 1d array was expected. Please change the shape of y to (n_samples, ), for example using ravel().\n",
            "  y = column_or_1d(y, warn=True)\n"
          ]
        },
        {
          "output_type": "stream",
          "name": "stdout",
          "text": [
            "0.9479978713795594\n"
          ]
        }
      ]
    },
    {
      "cell_type": "markdown",
      "source": [
        "Decision Tree Regression"
      ],
      "metadata": {
        "id": "z73Bla9otibU"
      }
    },
    {
      "cell_type": "code",
      "source": [
        "import numpy as np\n",
        "import pandas as pd\n",
        "import matplotlib.pyplot as plt\n",
        "from sklearn.linear_model import LinearRegression\n",
        "from sklearn.model_selection import train_test_split\n",
        "from sklearn.impute import SimpleImputer\n",
        "from sklearn.preprocessing import StandardScaler\n",
        "from sklearn.preprocessing import PolynomialFeatures\n",
        "from sklearn.compose import ColumnTransformer\n",
        "from sklearn.preprocessing import OneHotEncoder\n",
        "from sklearn.preprocessing import LabelEncoder\n",
        "from sklearn.metrics import r2_score\n",
        "from sklearn.tree import DecisionTreeRegressor\n",
        "from sklearn.svm import SVR\n",
        "from sklearn.ensemble import RandomForestRegressor\n",
        "\n",
        "\n",
        "dataset=pd.read_csv(\"Data.csv\")\n",
        "x=dataset.iloc[:, :-1].values\n",
        "y=dataset.iloc[:,-1].values\n",
        "\n",
        "# Scaling is compensated with the coefficients \n",
        "# No categorical data so no enocoding is done\n",
        "dataset.isna().values.sum()\n",
        "# no null values so good to go for splitting the data\n",
        "x_train,x_test, y_train, y_test=train_test_split(x,y,test_size=0.20,random_state=1)\n",
        "\n",
        "# scaling is not required for the decision tree regression and random forest regression\n",
        "\n",
        "regressor=DecisionTreeRegressor(random_state=0)\n",
        "regressor.fit(x_train,y_train)\n",
        "\n",
        "# predictions\n",
        "y_predicted=regressor.predict(x_test)\n",
        "np.set_printoptions(precision=2)\n",
        "np.concatenate((y_test.reshape(len(y_test),1), y_predicted.reshape(len(y_predicted),1)), axis=1)\n",
        "\n",
        "score=r2_score(y_test,y_predicted)\n",
        "print(score)"
      ],
      "metadata": {
        "colab": {
          "base_uri": "https://localhost:8080/"
        },
        "id": "DG7yj2d9tlco",
        "outputId": "7aac1fe7-1592-494e-e812-6bb45fc5654e"
      },
      "execution_count": 2,
      "outputs": [
        {
          "output_type": "stream",
          "name": "stdout",
          "text": [
            "0.9342783714449767\n"
          ]
        }
      ]
    },
    {
      "cell_type": "markdown",
      "source": [
        "Random Forest Regression\n"
      ],
      "metadata": {
        "id": "-PZ301kyus0c"
      }
    },
    {
      "cell_type": "code",
      "source": [
        "import numpy as np\n",
        "import pandas as pd\n",
        "import matplotlib.pyplot as plt\n",
        "from sklearn.linear_model import LinearRegression\n",
        "from sklearn.model_selection import train_test_split\n",
        "from sklearn.impute import SimpleImputer\n",
        "from sklearn.preprocessing import StandardScaler\n",
        "from sklearn.preprocessing import PolynomialFeatures\n",
        "from sklearn.compose import ColumnTransformer\n",
        "from sklearn.preprocessing import OneHotEncoder\n",
        "from sklearn.preprocessing import LabelEncoder\n",
        "from sklearn.metrics import r2_score\n",
        "from sklearn.tree import DecisionTreeRegressor\n",
        "from sklearn.svm import SVR\n",
        "from sklearn.ensemble import RandomForestRegressor\n",
        "\n",
        "\n",
        "dataset=pd.read_csv(\"Data.csv\")\n",
        "x=dataset.iloc[:, :-1].values\n",
        "y=dataset.iloc[:,-1].values\n",
        "\n",
        "# Scaling is compensated with the coefficients \n",
        "# No categorical data so no enocoding is done\n",
        "dataset.isna().values.sum()\n",
        "# no null values so good to go for splitting the data\n",
        "x_train,x_test, y_train, y_test=train_test_split(x,y,test_size=0.20,random_state=1)\n",
        "\n",
        "# scaling is not required for the decision tree regression and random forest regression\n",
        "\n",
        "regressor=RandomForestRegressor(n_estimators=10,random_state=1)\n",
        "regressor.fit(x_train,y_train)\n",
        "\n",
        "# predictions\n",
        "y_predicted=regressor.predict(x_test)\n",
        "np.set_printoptions(precision=2)\n",
        "np.concatenate((y_test.reshape(len(y_test),1), y_predicted.reshape(len(y_predicted),1)), axis=1)\n",
        "\n",
        "score=r2_score(y_test,y_predicted)\n",
        "print(score)"
      ],
      "metadata": {
        "colab": {
          "base_uri": "https://localhost:8080/"
        },
        "id": "uNz-fMawuwDc",
        "outputId": "5acefb74-48a7-44d1-d080-ca2658ed96e2"
      },
      "execution_count": 1,
      "outputs": [
        {
          "output_type": "stream",
          "name": "stdout",
          "text": [
            "0.9629867563235415\n"
          ]
        }
      ]
    }
  ]
}